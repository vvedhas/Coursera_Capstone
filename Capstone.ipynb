{
  "nbformat": 4,
  "nbformat_minor": 0,
  "metadata": {
    "colab": {
      "name": "Capstone.ipynb",
      "provenance": []
    },
    "kernelspec": {
      "name": "python3",
      "display_name": "Python 3"
    },
    "language_info": {
      "name": "python"
    }
  },
  "cells": [
    {
      "cell_type": "markdown",
      "metadata": {
        "id": "IIDcxSLSy624"
      },
      "source": [
        "Project Notebook for the Coursera IBM Data Science Professional Capstone Project"
      ]
    },
    {
      "cell_type": "code",
      "metadata": {
        "colab": {
          "base_uri": "https://localhost:8080/"
        },
        "id": "dVZhuKRJy4SB",
        "outputId": "f4a2ac46-2c4b-4c44-cd6e-4ef62e44a94c"
      },
      "source": [
        "import pandas as pd\n",
        "import numpy as np\n",
        "print(\"Hello Capstone Project Course!\")"
      ],
      "execution_count": 1,
      "outputs": [
        {
          "output_type": "stream",
          "text": [
            "Hello Capstone Project Course!\n"
          ],
          "name": "stdout"
        }
      ]
    }
  ]
}