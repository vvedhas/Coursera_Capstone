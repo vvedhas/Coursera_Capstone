{
  "nbformat": 4,
  "nbformat_minor": 0,
  "metadata": {
    "colab": {
      "name": "Capstone.ipynb",
      "provenance": [],
      "collapsed_sections": [],
      "authorship_tag": "ABX9TyPT7xR6HOi0Gtba6f0Kxv4K",
      "include_colab_link": true
    },
    "kernelspec": {
      "name": "python3",
      "display_name": "Python 3"
    },
    "language_info": {
      "name": "python"
    }
  },
  "cells": [
    {
      "cell_type": "markdown",
      "metadata": {
        "id": "view-in-github",
        "colab_type": "text"
      },
      "source": [
        "<a href=\"https://colab.research.google.com/github/vvedhas/Coursera_Capstone/blob/main/Capstone.ipynb\" target=\"_parent\"><img src=\"https://colab.research.google.com/assets/colab-badge.svg\" alt=\"Open In Colab\"/></a>"
      ]
    },
    {
      "cell_type": "markdown",
      "metadata": {
        "id": "IIDcxSLSy624"
      },
      "source": [
        "Battle of Neighborhoods :\n",
        "New York and Toronto \n"
      ]
    },
    {
      "cell_type": "markdown",
      "metadata": {
        "id": "O0QBfrhLmot-"
      },
      "source": [
        "1. **Introduction**\n",
        "\n",
        "1.1 **Preface**\n",
        "\n",
        "The cities of New York and Toronto are perhaps two of the most well known cities in the world. Both being prominent financial capitals for their nations, the cities boast a wide array of people, coming with their diverse cultures and yet, leading similar lifestyles that represent the city.\n",
        "New York, better known as New York City, is the most densely populated city in the United States. Located on the southern tip of the State of New York, it is also the world's largest metropolitan area.\n",
        "Toronto, the capital of Ontario, Canada, is Canada’s most populous city. Located in a geographically diverse area, Toronto is famous for its valleys, forests and mountains. While the primary language for communication is English, Toronto boasts over 160 different languages.\n",
        "\n",
        "1.2 **Business Problem**\n",
        "\n",
        "The cities are both densely populated and house a diverse range of people. This report aims to discover and list a few similarities and dissimilarities between the two cities, and showcase what is more popular among the residents of the cities.\n",
        "\n",
        "1.3 **Scope**\n",
        "\n",
        "It is always helpful to know about a city beforehand when planning to visit. Additionally, by identifying the trends and activities of a city, it allows for smarter decisions in opening businesses, looking for jobs and many other activities.\n",
        "\n",
        "\n",
        "\n",
        "\n",
        "2. **Data Handling**\n",
        "\n",
        "2.1 **Overview** \n",
        "\n",
        "The analysis begins by acquiring the neighborhood data of both cities, which can be procured from the Wikipedia pages of the cities. Some of the data we shall use will be Boroughs, Neighborhoods, and Postcodes. These attributes can be scraped from the webpage tables, and can be cleaned up using the BeautifulSoup Library.\n",
        "\n",
        "Further, the cleaned data can be correlated via Foursquare to obtain data of popular venues in the areas we have listed, which is key to identifying trends in the cities.\n",
        "\n",
        "This data will further be used to identify key demographic interests and other observations.\n"
      ]
    }
  ]
}